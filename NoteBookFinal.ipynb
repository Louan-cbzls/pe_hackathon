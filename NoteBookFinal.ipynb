{
 "cells": [
  {
   "cell_type": "markdown",
   "id": "66276e02-72d2-49ad-a9d2-25a5854b7793",
   "metadata": {},
   "source": [
    "Bilan du code pour la résolution du Puzzle"
   ]
  },
  {
   "cell_type": "markdown",
   "id": "f0b7d307-93ef-4b8c-9ab9-b35dd5587ddd",
   "metadata": {},
   "source": [
    "Il faut d'abord créer toutes les lettres grâce à des matrices carrées (plus facile pour appliquer une rotation par la suite)"
   ]
  },
  {
   "cell_type": "code",
   "execution_count": null,
   "id": "95e56432-bdb3-4f8c-be9c-afae415730f3",
   "metadata": {},
   "outputs": [],
   "source": []
  }
 ],
 "metadata": {
  "kernelspec": {
   "display_name": "Python 3 (ipykernel)",
   "language": "python",
   "name": "python3"
  },
  "language_info": {
   "codemirror_mode": {
    "name": "ipython",
    "version": 3
   },
   "file_extension": ".py",
   "mimetype": "text/x-python",
   "name": "python",
   "nbconvert_exporter": "python",
   "pygments_lexer": "ipython3",
   "version": "3.12.4"
  }
 },
 "nbformat": 4,
 "nbformat_minor": 5
}
