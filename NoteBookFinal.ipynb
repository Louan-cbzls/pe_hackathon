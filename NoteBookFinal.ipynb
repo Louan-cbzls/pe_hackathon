{
 "cells": [
  {
   "cell_type": "markdown",
   "id": "66276e02-72d2-49ad-a9d2-25a5854b7793",
   "metadata": {},
   "source": [
    "Bilan du code pour la résolution du Puzzle"
   ]
  },
  {
   "cell_type": "markdown",
   "id": "f0b7d307-93ef-4b8c-9ab9-b35dd5587ddd",
   "metadata": {},
   "source": [
    "Il faut d'abord créer toutes les lettres grâce à des matrices carrées (plus facile pour appliquer une rotation par la suite), qu'on va incorporer dans une grille convexe de taille n*m"
   ]
  },
  {
   "cell_type": "code",
   "execution_count": null,
   "id": "95e56432-bdb3-4f8c-be9c-afae415730f3",
   "metadata": {},
   "outputs": [],
   "source": [
    "import numpy as np\n",
    "\n",
    "def creation_grille(n,m):\n",
    "    tab = np.zeros((n,m))\n",
    "    return(tab)\n",
    "    \n",
    "n = 6\n",
    "m = 10\n",
    "grille=creation_grille(n,m)"
   ]
  },
  {
   "cell_type": "code",
   "execution_count": null,
   "id": "90a0b312-7a33-4fb0-a20b-067b7a723f5c",
   "metadata": {},
   "outputs": [],
   "source": [
    "lettre_f=np.zeros((3,3))\n",
    "lettre_f[0,1]=1\n",
    "lettre_f[0,2]=1\n",
    "lettre_f[1,0]=1\n",
    "lettre_f[1,1]=1\n",
    "lettre_f[2,1]=1\n",
    "\n",
    "lettre_i=np.zeros((5,5))\n",
    "lettre_i[0,0]=1\n",
    "lettre_i[1,0]=1\n",
    "lettre_i[2,0]=1\n",
    "lettre_i[3,0]=1\n",
    "lettre_i[4,0]=1\n",
    "\n",
    "lettre_l=np.zeros((4,4))\n",
    "lettre_l[0,0]=1\n",
    "lettre_l[1,0]=1\n",
    "lettre_l[2,0]=1\n",
    "lettre_l[3,0]=1\n",
    "lettre_l[3,1]=1\n",
    "\n",
    "lettre_n=np.zeros((4,4))\n",
    "lettre_n[0,1]=1\n",
    "lettre_n[1,1]=1\n",
    "lettre_n[2,1]=1\n",
    "lettre_n[2,0]=1\n",
    "lettre_n[3,0]=1\n",
    "\n",
    "lettre_x = np.array([[0,1,0],[1,1,1],[0,1,0]])\n",
    "lettre_y = np.array([[0,0,0,0],[0,0,0,0],[0,0,1,0],[1,1,1,1]])\n",
    "lettre_z = np.array([[1,1,0],[1,1,1],[0,1,1]])\n",
    "lettre_p = np.array([[1,1,0],[1,1,0],[1,0,0]])\n",
    "lettre_t = np.array([[1,1,1],[0,1,0],[0,1,0]])\n",
    "\n",
    "lettre_u = np.array([[0,0,0],\n",
    "                     [1,0,1],\n",
    "                     [1,1,1]])\n",
    "lettre_v = np.array([[0,0,1],\n",
    "                     [0,0,1],\n",
    "                     [1,1,1])\n",
    "lettre_w = np.array([[0,0,1],\n",
    "                     [0,1,1],\n",
    "                     [1,1,0]])\n"
   ]
  },
  {
   "cell_type": "markdown",
   "id": "035fdd3f-7f30-41d1-a2d7-88f837f134b1",
   "metadata": {},
   "source": [
    "Maintenant qu'on a nos lettres, il faut aussi obtenir leurs rotation et leurs symétries"
   ]
  },
  {
   "cell_type": "code",
   "execution_count": null,
   "id": "d97223de-53d5-4297-b0da-fd982a7f586e",
   "metadata": {},
   "outputs": [],
   "source": [
    "code de baptiste"
   ]
  },
  {
   "cell_type": "markdown",
   "id": "69140da7-485e-43ac-a827-d687848a158b",
   "metadata": {},
   "source": [
    "Il faut incorporer ces lettres dans la grille, mais pour cela il faut d'abord réduire la matrice carrée contenant la lettre au rectangle minimal contenant la lettre"
   ]
  },
  {
   "cell_type": "code",
   "execution_count": null,
   "id": "717e3234-6bc3-4172-bffd-44964861748c",
   "metadata": {},
   "outputs": [],
   "source": [
    "code de louan"
   ]
  },
  {
   "cell_type": "code",
   "execution_count": null,
   "id": "5b42875f-0a78-467d-a6e7-aae3f820c1a6",
   "metadata": {},
   "outputs": [],
   "source": [
    "Maintenant on liste toutes les grilles possibles"
   ]
  },
  {
   "cell_type": "code",
   "execution_count": null,
   "id": "9a335b86-02dc-4e9a-b31e-c448c1e860e9",
   "metadata": {},
   "outputs": [],
   "source": [
    "def placement(grille,matrice):\n",
    "    n,p=np.shape(grille)\n",
    "    s,t=np.shape(matrice)\n",
    "    m=(n-s)*(p-t)\n",
    "    liste=[]\n",
    "    for i in range(n-s+1):\n",
    "        for j in range(p-t+1):\n",
    "            nom=np.zeros((n,p))\n",
    "            nom[i:i+s,j:j+t]=matrice\n",
    "            liste.append(nom)\n",
    "    return liste\n"
   ]
  },
  {
   "cell_type": "markdown",
   "id": "0e38ec0d-5954-4789-9ae6-cf4e8b36d569",
   "metadata": {},
   "source": [
    "Il faut transformer les matrices dans une représentation compatible avec la fonction qui va résoudre"
   ]
  }
 ],
 "metadata": {
  "kernelspec": {
   "display_name": "Python 3 (ipykernel)",
   "language": "python",
   "name": "python3"
  },
  "language_info": {
   "codemirror_mode": {
    "name": "ipython",
    "version": 3
   },
   "file_extension": ".py",
   "mimetype": "text/x-python",
   "name": "python",
   "nbconvert_exporter": "python",
   "pygments_lexer": "ipython3",
   "version": "3.12.4"
  }
 },
 "nbformat": 4,
 "nbformat_minor": 5
}
